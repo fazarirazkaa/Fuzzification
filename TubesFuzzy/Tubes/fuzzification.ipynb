{
 "cells": [
  {
   "cell_type": "markdown",
   "id": "7b02049d",
   "metadata": {},
   "source": [
    "TUBES DKA\n",
    "\n",
    "Anggota Kelompok : \n",
    "1. Falah Razan Hibrizi\n",
    "2. Fazari Razka Davira\n",
    "3. Irham Kurnia Putra"
   ]
  },
  {
   "cell_type": "code",
   "execution_count": 132,
   "id": "ab9fa827",
   "metadata": {},
   "outputs": [],
   "source": [
    "import numpy as np\n",
    "import pandas as pd\n",
    "import matplotlib.pyplot as plt\n",
    "import skfuzzy as fuzz\n",
    "from skfuzzy import control as ctrl\n",
    "from sklearn.metrics import accuracy_score, f1_score"
   ]
  },
  {
   "cell_type": "code",
   "execution_count": 133,
   "id": "aad6da80",
   "metadata": {},
   "outputs": [
    {
     "data": {
      "application/vnd.microsoft.datawrangler.viewer.v0+json": {
       "columns": [
        {
         "name": "index",
         "rawType": "int64",
         "type": "integer"
        },
        {
         "name": "Age",
         "rawType": "int64",
         "type": "integer"
        },
        {
         "name": "Troponin",
         "rawType": "float64",
         "type": "float"
        },
        {
         "name": "Risk",
         "rawType": "int64",
         "type": "integer"
        }
       ],
       "ref": "bed59e86-ecdf-4bb1-ae78-4bd5e9024118",
       "rows": [
        [
         "0",
         "64",
         "0.012",
         "0"
        ],
        [
         "1",
         "21",
         "1.06",
         "1"
        ],
        [
         "2",
         "55",
         "0.003",
         "0"
        ],
        [
         "3",
         "64",
         "0.122",
         "1"
        ],
        [
         "4",
         "55",
         "0.003",
         "0"
        ],
        [
         "5",
         "58",
         "0.004",
         "0"
        ],
        [
         "6",
         "32",
         "0.003",
         "0"
        ],
        [
         "7",
         "63",
         "2.37",
         "1"
        ],
        [
         "8",
         "44",
         "0.004",
         "0"
        ],
        [
         "9",
         "67",
         "0.011",
         "0"
        ]
       ],
       "shape": {
        "columns": 3,
        "rows": 10
       }
      },
      "text/html": [
       "<div>\n",
       "<style scoped>\n",
       "    .dataframe tbody tr th:only-of-type {\n",
       "        vertical-align: middle;\n",
       "    }\n",
       "\n",
       "    .dataframe tbody tr th {\n",
       "        vertical-align: top;\n",
       "    }\n",
       "\n",
       "    .dataframe thead th {\n",
       "        text-align: right;\n",
       "    }\n",
       "</style>\n",
       "<table border=\"1\" class=\"dataframe\">\n",
       "  <thead>\n",
       "    <tr style=\"text-align: right;\">\n",
       "      <th></th>\n",
       "      <th>Age</th>\n",
       "      <th>Troponin</th>\n",
       "      <th>Risk</th>\n",
       "    </tr>\n",
       "  </thead>\n",
       "  <tbody>\n",
       "    <tr>\n",
       "      <th>0</th>\n",
       "      <td>64</td>\n",
       "      <td>0.012</td>\n",
       "      <td>0</td>\n",
       "    </tr>\n",
       "    <tr>\n",
       "      <th>1</th>\n",
       "      <td>21</td>\n",
       "      <td>1.060</td>\n",
       "      <td>1</td>\n",
       "    </tr>\n",
       "    <tr>\n",
       "      <th>2</th>\n",
       "      <td>55</td>\n",
       "      <td>0.003</td>\n",
       "      <td>0</td>\n",
       "    </tr>\n",
       "    <tr>\n",
       "      <th>3</th>\n",
       "      <td>64</td>\n",
       "      <td>0.122</td>\n",
       "      <td>1</td>\n",
       "    </tr>\n",
       "    <tr>\n",
       "      <th>4</th>\n",
       "      <td>55</td>\n",
       "      <td>0.003</td>\n",
       "      <td>0</td>\n",
       "    </tr>\n",
       "    <tr>\n",
       "      <th>5</th>\n",
       "      <td>58</td>\n",
       "      <td>0.004</td>\n",
       "      <td>0</td>\n",
       "    </tr>\n",
       "    <tr>\n",
       "      <th>6</th>\n",
       "      <td>32</td>\n",
       "      <td>0.003</td>\n",
       "      <td>0</td>\n",
       "    </tr>\n",
       "    <tr>\n",
       "      <th>7</th>\n",
       "      <td>63</td>\n",
       "      <td>2.370</td>\n",
       "      <td>1</td>\n",
       "    </tr>\n",
       "    <tr>\n",
       "      <th>8</th>\n",
       "      <td>44</td>\n",
       "      <td>0.004</td>\n",
       "      <td>0</td>\n",
       "    </tr>\n",
       "    <tr>\n",
       "      <th>9</th>\n",
       "      <td>67</td>\n",
       "      <td>0.011</td>\n",
       "      <td>0</td>\n",
       "    </tr>\n",
       "  </tbody>\n",
       "</table>\n",
       "</div>"
      ],
      "text/plain": [
       "   Age  Troponin  Risk\n",
       "0   64     0.012     0\n",
       "1   21     1.060     1\n",
       "2   55     0.003     0\n",
       "3   64     0.122     1\n",
       "4   55     0.003     0\n",
       "5   58     0.004     0\n",
       "6   32     0.003     0\n",
       "7   63     2.370     1\n",
       "8   44     0.004     0\n",
       "9   67     0.011     0"
      ]
     },
     "execution_count": 133,
     "metadata": {},
     "output_type": "execute_result"
    }
   ],
   "source": [
    "df = pd.read_csv(\"df_selected_heart_attack.csv\")\n",
    "df.head(10)"
   ]
  },
  {
   "cell_type": "markdown",
   "id": "d0ac11d3",
   "metadata": {},
   "source": [
    "Fuzzification"
   ]
  },
  {
   "cell_type": "code",
   "execution_count": 134,
   "id": "db954f22",
   "metadata": {},
   "outputs": [],
   "source": [
    "def fuzzy_age(value):\n",
    "    hasil = {\"Rendah\": 0, \"Normal\": 0, \"Tinggi\": 0}\n",
    "    a, b, c, d = 20, 35, 55, 75\n",
    "    if value <= a:\n",
    "        hasil[\"Rendah\"] = 1\n",
    "    elif a < value < b:\n",
    "        hasil[\"Rendah\"] = (b - value) / (b - a)\n",
    "    if a < value < b:\n",
    "        hasil[\"Normal\"] = (value - a) / (b - a)\n",
    "    elif b <= value <= c:\n",
    "        hasil[\"Normal\"] = 1\n",
    "    elif c < value < d:\n",
    "        hasil[\"Normal\"] = (d - value) / (d - c)\n",
    "    if value >= d:\n",
    "        hasil[\"Tinggi\"] = 1\n",
    "    elif c < value < d:\n",
    "        hasil[\"Tinggi\"] = (value - c) / (d - c)\n",
    "    return hasil"
   ]
  },
  {
   "cell_type": "code",
   "execution_count": 135,
   "id": "cb4aeb48",
   "metadata": {},
   "outputs": [],
   "source": [
    "def fuzzy_troponin(value):\n",
    "    hasil = {\"Rendah\": 0, \"Normal\": 0, \"Tinggi\": 0}\n",
    "    a, b, c, d = 0, 0.05, 0.4, 0.8\n",
    "    if value <= a:\n",
    "        hasil[\"Rendah\"] = 1\n",
    "    elif a < value < b:\n",
    "        hasil[\"Rendah\"] = (b - value) / (b - a)\n",
    "    if a < value < b:\n",
    "        hasil[\"Normal\"] = (value - a) / (b - a)\n",
    "    elif b <= value <= c:\n",
    "        hasil[\"Normal\"] = 1\n",
    "    elif c < value < d:\n",
    "        hasil[\"Normal\"] = (d - value) / (d - c)\n",
    "    if value >= d:\n",
    "        hasil[\"Tinggi\"] = 1\n",
    "    elif c < value < d:\n",
    "        hasil[\"Tinggi\"] = (value - c) / (d - c)\n",
    "    return hasil"
   ]
  },
  {
   "cell_type": "markdown",
   "id": "04dcf998",
   "metadata": {},
   "source": [
    "Sugeno System"
   ]
  },
  {
   "cell_type": "code",
   "execution_count": 136,
   "id": "62cbd9c1",
   "metadata": {},
   "outputs": [],
   "source": [
    "def sugeno_infer(age, troponin):\n",
    "    rules = {\n",
    "        ('Rendah', 'Rendah'): 0.1,\n",
    "        ('Rendah', 'Normal'): 0.2,\n",
    "        ('Rendah', 'Tinggi'): 0.5,\n",
    "        ('Normal', 'Rendah'): 0.3,\n",
    "        ('Normal', 'Normal'): 0.5,\n",
    "        ('Normal', 'Tinggi'): 0.7,\n",
    "        ('Tinggi', 'Rendah'): 0.6,\n",
    "        ('Tinggi', 'Normal'): 0.8,\n",
    "        ('Tinggi', 'Tinggi'): 1.0,\n",
    "    }\n",
    "    fuzzy_age_val = fuzzy_age(age)\n",
    "    fuzzy_trop_val = fuzzy_troponin(troponin)\n",
    "    weighted_sum, total_weight = 0, 0\n",
    "    for a_cat, a_val in fuzzy_age_val.items():\n",
    "        for t_cat, t_val in fuzzy_trop_val.items():\n",
    "            fire = min(a_val, t_val)\n",
    "            out = rules.get((a_cat, t_cat), 0)\n",
    "            weighted_sum += fire * out\n",
    "            total_weight += fire\n",
    "    return weighted_sum / total_weight if total_weight > 0 else 0"
   ]
  },
  {
   "cell_type": "code",
   "execution_count": 137,
   "id": "3fa568d7",
   "metadata": {},
   "outputs": [],
   "source": [
    "df['sugeno_score'] = df.apply(lambda row: sugeno_infer(row['Age'], row['Troponin']), axis=1)\n",
    "df['sugeno_pred'] = df['sugeno_score'].apply(lambda x: 1 if x >= 0.5 else 0)"
   ]
  },
  {
   "cell_type": "code",
   "execution_count": 138,
   "id": "8bfbb1ed",
   "metadata": {},
   "outputs": [
    {
     "name": "stdout",
     "output_type": "stream",
     "text": [
      "Akurasi: 75.13 %\n",
      "F1-Score: 0.78\n"
     ]
    }
   ],
   "source": [
    "acc = accuracy_score(df['Risk'], df['sugeno_pred'])\n",
    "f1 = f1_score(df['Risk'], df['sugeno_pred'])\n",
    "\n",
    "print(\"Akurasi:\", round(acc * 100, 2), \"%\")\n",
    "print(\"F1-Score:\", round(f1, 2))"
   ]
  },
  {
   "cell_type": "markdown",
   "id": "c3847c46",
   "metadata": {},
   "source": [
    "Mamdani Method"
   ]
  },
  {
   "cell_type": "code",
   "execution_count": 139,
   "id": "ad174f0e",
   "metadata": {},
   "outputs": [],
   "source": [
    "age = ctrl.Antecedent(np.arange(0, 101, 1), 'age')\n",
    "troponin = ctrl.Antecedent(np.arange(0, 1.1, 0.01), 'troponin')\n",
    "risk = ctrl.Consequent(np.arange(0, 101, 1), 'risk')\n",
    "\n",
    "age['rendah'] = fuzz.trimf(age.universe, [0, 15, 30])\n",
    "age['normal'] = fuzz.trimf(age.universe, [25, 45, 65])\n",
    "age['tinggi'] = fuzz.trimf(age.universe, [60, 75, 100])\n",
    "\n",
    "troponin['rendah'] = fuzz.trimf(troponin.universe, [0, 0.03, 0.1])\n",
    "troponin['normal'] = fuzz.trimf(troponin.universe, [0.08, 0.3, 0.6])\n",
    "troponin['tinggi'] = fuzz.trimf(troponin.universe, [0.5, 0.75, 1.0])\n",
    "\n",
    "risk['rendah'] = fuzz.trimf(risk.universe, [0, 15, 30])\n",
    "risk['sedang'] = fuzz.trimf(risk.universe, [25, 50, 75])\n",
    "risk['tinggi'] = fuzz.trimf(risk.universe, [70, 85, 100])"
   ]
  },
  {
   "cell_type": "code",
   "execution_count": 140,
   "id": "2f91df2a",
   "metadata": {},
   "outputs": [],
   "source": [
    "rules = [\n",
    "    ctrl.Rule(age['tinggi'] & troponin['tinggi'], risk['tinggi']),\n",
    "    ctrl.Rule(age['tinggi'] & troponin['normal'], risk['tinggi']),\n",
    "    ctrl.Rule(age['normal'] & troponin['tinggi'], risk['tinggi']),\n",
    "    ctrl.Rule(age['normal'] & troponin['normal'], risk['sedang']),\n",
    "    ctrl.Rule(age['rendah'] & troponin['tinggi'], risk['sedang']),\n",
    "    ctrl.Rule(age['tinggi'] & troponin['rendah'], risk['sedang']),\n",
    "    ctrl.Rule(age['normal'] & troponin['rendah'], risk['rendah']),\n",
    "    ctrl.Rule(age['rendah'] & troponin['normal'], risk['rendah']),\n",
    "    ctrl.Rule(age['rendah'] & troponin['rendah'], risk['rendah']),\n",
    "]"
   ]
  },
  {
   "cell_type": "code",
   "execution_count": 141,
   "id": "5f4104ee",
   "metadata": {},
   "outputs": [],
   "source": [
    "risk_ctrl = ctrl.ControlSystem(rules)\n",
    "risk_sim = ctrl.ControlSystemSimulation(risk_ctrl)"
   ]
  },
  {
   "cell_type": "code",
   "execution_count": 142,
   "id": "26f852d4",
   "metadata": {},
   "outputs": [],
   "source": [
    "mamdani_scores = []\n",
    "for _, row in df.iterrows():\n",
    "    try:\n",
    "        risk_sim.input['age'] = row['Age']\n",
    "        risk_sim.input['troponin'] = row['Troponin']\n",
    "        risk_sim.compute()\n",
    "        mamdani_scores.append(risk_sim.output['risk'])\n",
    "    except:\n",
    "        mamdani_scores.append(0)\n",
    "    risk_sim.reset()"
   ]
  },
  {
   "cell_type": "code",
   "execution_count": 143,
   "id": "dc670dd3",
   "metadata": {},
   "outputs": [],
   "source": [
    "df['mamdani_score'] = mamdani_scores\n",
    "df['mamdani_pred'] = df['mamdani_score'].apply(lambda x: 1 if x >= 50 else 0)"
   ]
  },
  {
   "cell_type": "code",
   "execution_count": 144,
   "id": "3d022406",
   "metadata": {},
   "outputs": [
    {
     "name": "stdout",
     "output_type": "stream",
     "text": [
      "Akurasi Mamdani: 54.81 %\n",
      "F1-Score Mamdani: 0.44\n"
     ]
    }
   ],
   "source": [
    "acc_mamdani = accuracy_score(df['Risk'], df['mamdani_pred'])\n",
    "f1_mamdani = f1_score(df['Risk'], df['mamdani_pred'])\n",
    "\n",
    "print(\"Akurasi Mamdani:\", round(acc_mamdani * 100, 2), \"%\")\n",
    "print(\"F1-Score Mamdani:\", round(f1_mamdani, 2))"
   ]
  },
  {
   "cell_type": "code",
   "execution_count": 145,
   "id": "ebc2435d",
   "metadata": {},
   "outputs": [
    {
     "data": {
      "image/png": "[encoded data removed]",
      "text/plain": [
       "<Figure size 800x400 with 1 Axes>"
      ]
     },
     "metadata": {},
     "output_type": "display_data"
    }
   ],
   "source": [
    "x_muda = [0, 15, 30, 45]\n",
    "y_muda = [1, 1, 0, 0]\n",
    "\n",
    "x_dewasa = [30, 45, 60, 75]\n",
    "y_dewasa = [0, 1, 1, 0]\n",
    "\n",
    "x_tua = [60, 75, 90, 100]\n",
    "y_tua = [0, 1, 1, 1]\n",
    "\n",
    "plt.figure(figsize=(8, 4))\n",
    "plt.plot(x_muda, y_muda, label=\"Muda\", color=\"skyblue\")\n",
    "plt.plot(x_dewasa, y_dewasa, label=\"Dewasa\", color=\"orange\")\n",
    "plt.plot(x_tua, y_tua, label=\"Tua\", color=\"green\")\n",
    "\n",
    "plt.title(\"Grafik Age\")\n",
    "plt.xlabel(\"Umur\")\n",
    "plt.ylabel(\"Derajat Keanggotaan\")\n",
    "plt.legend()\n",
    "plt.grid(True)\n",
    "plt.show()"
   ]
  },
  {
   "cell_type": "code",
   "execution_count": 146,
   "id": "f6eab522",
   "metadata": {},
   "outputs": [
    {
     "data": {
      "image/png": "[encoded data removed]",
      "text/plain": [
       "<Figure size 800x400 with 1 Axes>"
      ]
     },
     "metadata": {},
     "output_type": "display_data"
    }
   ],
   "source": [
    "x_rendah = [0.0, 0.0, 0.05, 1.0]\n",
    "y_rendah = [1, 1, 0, 0]\n",
    "\n",
    "x_normal = [0.0, 0.05, 0.4, 0.8, 1.0]\n",
    "y_normal = [0, 1, 1, 0, 0]\n",
    "\n",
    "x_tinggi = [0.4, 0.8, 1.0]\n",
    "y_tinggi = [0, 1, 1]\n",
    "\n",
    "plt.figure(figsize=(8, 4))\n",
    "plt.plot(x_rendah, y_rendah, label=\"Rendah\", color=\"skyblue\")\n",
    "plt.plot(x_normal, y_normal, label=\"Normal\", color=\"orange\")\n",
    "plt.plot(x_tinggi, y_tinggi, label=\"Tinggi\", color=\"green\")\n",
    "\n",
    "plt.title(\"Grafik Troponin\")\n",
    "plt.xlabel(\"Troponin Level\")\n",
    "plt.ylabel(\"Derajat Keanggotaan\")\n",
    "plt.legend()\n",
    "plt.grid(True)\n",
    "plt.show()"
   ]
  },
  {
   "cell_type": "markdown",
   "id": "39878199",
   "metadata": {},
   "source": [
    "Defuzzification"
   ]
  },
  {
   "cell_type": "code",
   "execution_count": 147,
   "id": "8ed729a6",
   "metadata": {},
   "outputs": [
    {
     "data": {
      "image/png": "[encoded data removed]",
      "text/plain": [
       "<Figure size 1000x400 with 1 Axes>"
      ]
     },
     "metadata": {},
     "output_type": "display_data"
    }
   ],
   "source": [
    "plt.figure(figsize=(10, 4))\n",
    "plt.axvline(50, color='red', linestyle='dashed', label='Threshold = 50')\n",
    "plt.title(\"Distribusi Skor Mamdani (Hasil Defuzzifikasi)\")\n",
    "plt.xlabel(\"Skor Risiko\")\n",
    "plt.ylabel(\"Jumlah Data\")\n",
    "plt.legend()\n",
    "plt.grid(True)\n",
    "plt.tight_layout()\n",
    "plt.show()"
   ]
  }
 ],
 "metadata": {
  "kernelspec": {
   "display_name": "Python 3",
   "language": "python",
   "name": "python3"
  },
  "language_info": {
   "codemirror_mode": {
    "name": "ipython",
    "version": 3
   },
   "file_extension": ".py",
   "mimetype": "text/x-python",
   "name": "python",
   "nbconvert_exporter": "python",
   "pygments_lexer": "ipython3",
   "version": "3.11.1"
  }
 },
 "nbformat": 4,
 "nbformat_minor": 5
}
